{
 "cells": [
  {
   "cell_type": "markdown",
   "metadata": {},
   "source": [
    "## Exercises\n",
    "### Write the pseudocode for these problems. \n",
    "\n",
    "#### Define the problem by constructing an IPO diagram showing input, output, and processing steps\n",
    "Ask yourself\n",
    "- What control structures (sequence, selection and repetition) are required?\n",
    "- What variables are required?\n",
    "\n",
    "Show a check of your solution with **test data** for at least **two valid test cases**\n",
    "If you use the numbers provided in the example then the correct pseudocode will calculate the same result.\n",
    "    "
   ]
  },
  {
   "cell_type": "markdown",
   "metadata": {},
   "source": [
    "#### 1. Find the average score\n",
    "A program is needed to prompt the user operator for exam scores, calculate the average score and display the result to the screen. The average score is calculated as the sum of the scores divided by the number of scores."
   ]
  },
  {
   "cell_type": "markdown",
   "metadata": {},
   "source": [
    "#BEGIN\n",
    "    promt user for exam scores\n",
    "    add 1 to counter\n",
    "    promt user to determine if they have entered all scores\n",
    "    add all scores and divide by counter\n",
    "    print above average\n",
    "END #   \n",
    "    \n",
    "    "
   ]
  },
  {
   "cell_type": "markdown",
   "metadata": {},
   "source": [
    "#### 2. How much water runs off a roof in a rain storm?\n",
    "To calculate the runoff from any given rainfall: Take the dimensions of the footprint of the roof and convert them to inches. (So, a 50' x 20' roof is 600\" x 240\"). Multiply the roof dimensions by the number of inches of rainfall. As an example, 600\" x 240\" x 1\" = 144,000 cubic inches of water for an inch of rainfall. Divide that result by 231 to get the number of gallons (because 1 gallon = 231 cubic inches). (144,000/231 = 623.38)."
   ]
  },
  {
   "cell_type": "markdown",
   "metadata": {},
   "source": [
    "BEGIN\n",
    "    promt user for x dimension in feet\n",
    "    set x to width\n",
    "    Promt user for y dimension in feet\n",
    "    set y to length\n",
    "    multiply x by 12\n",
    "    multiply y by 12\n",
    "    multiply x and y for area in inches\n",
    "    promt user for inches of rainfall\n",
    "    multiply area by rainfall\n",
    "    divide rainfall by 231\n",
    "    print result in gallons\n",
    "END"
   ]
  },
  {
   "cell_type": "markdown",
   "metadata": {},
   "source": [
    "#### 3. Process customer record\n",
    "A program is required to read a customer’s name, a purchase amount and a tax code. The tax code has been validated and will be one of the following: 0 tax exempt (0%) 1 state sales tax only (3%) 2 federal and state sales tax (5%) 3 special sales tax (7%) The program must then compute the sales tax and the total amount due,and print the customer’s name, purchase amount, sales tax and total amount due."
   ]
  },
  {
   "cell_type": "markdown",
   "metadata": {},
   "source": [
    "BEGIN\n",
    "    read name\n",
    "    read purchase amount\n",
    "    read tax code\n",
    "        tax code will be 0,1,2, OR 3\n",
    "        if else than print unknown\n",
    "    set tax code 0=0%\n",
    "    set tax code 1=3%\n",
    "    set tax code 2=5%\n",
    "    set tax code 3-7%\n",
    "        multiply purchase amount by tax code = tax amount\n",
    "        add purchase amount to tax amount = total due\n",
    "    print name\n",
    "    print purchase amount\n",
    "    print tax amount\n",
    "    print total due\n",
    "END"
   ]
  },
  {
   "cell_type": "markdown",
   "metadata": {},
   "source": [
    "#### 4. Calculate employee's pay \n",
    "A program is required by a company to read an employee’s number, pay rate and the number of hours worked in a week. The program is then to validate the pay rate field and the hours worked field and, if valid, compute the employee’s weekly pay and then print it and the input data.\n",
    "\n",
    "Validation: According to the company’s rules, the maximum hours an employee can work per week is 60 hours, and the maximum hourly rate is $25.00 per hour. If the hours worked field or the hourly rate field is out of range, the input data and an appropriate message are to be printed and the employee’s weekly pay is not to be calculated.\n",
    "\n",
    "Weekly pay calculation: Weekly pay is calculated as hours worked times pay rate. If more than 35 hours are worked, payment for the overtime hours worked is calculated at time-and-a-half."
   ]
  },
  {
   "cell_type": "markdown",
   "metadata": {},
   "source": [
    "BEGIN\n",
    "    read employee number\n",
    "    read pay rate\n",
    "    read number of hours worked in week\n",
    "        confirm pay rate and hours worked\n",
    "            hours may not exceed 60\n",
    "            pay rate may not exceed 25.00\n",
    "        if not confirm than print weekly pay is not calculated as it is out of range\n",
    "    multiply pay rate by hours worked for those hours under 35= normal pay\n",
    "        if hours greater than 35 then multiply pay rate by 1.5 =OT\n",
    "        mutiply OT by remainder of hours = OT pay\n",
    "        add normal pay to OT pay=total pay\n",
    "    print total pay  \n",
    "END"
   ]
  },
  {
   "cell_type": "code",
   "execution_count": null,
   "metadata": {},
   "outputs": [],
   "source": []
  }
 ],
 "metadata": {
  "kernelspec": {
   "display_name": "Python 3",
   "language": "python",
   "name": "python3"
  },
  "language_info": {
   "codemirror_mode": {
    "name": "ipython",
    "version": 3
   },
   "file_extension": ".py",
   "mimetype": "text/x-python",
   "name": "python",
   "nbconvert_exporter": "python",
   "pygments_lexer": "ipython3",
   "version": "3.8.8"
  }
 },
 "nbformat": 4,
 "nbformat_minor": 2
}
